{
 "cells": [
  {
   "cell_type": "code",
   "execution_count": 1,
   "metadata": {},
   "outputs": [],
   "source": [
    "# Create a 2 person tic tac toe game\n",
    "# 2 players should be able to play the game sitting at the same computer\n",
    "# the board should be printed out everytime a player makes a move\n",
    "# You should be able toa accept input of the player position and then place a symbol on the board\n",
    "\n",
    "# we will use the \"numpad\" to match numbers to the grid on a tic tac toe board:\n",
    "# 7 | 8 | 9\n",
    "# ----------\n",
    "# 4 | 5 | 6\n",
    "# ----------\n",
    "# 1 | 2 | 3\n"
   ]
  },
  {
   "cell_type": "code",
   "execution_count": null,
   "metadata": {},
   "outputs": [],
   "source": []
  }
 ],
 "metadata": {
  "kernelspec": {
   "display_name": "Python 3",
   "language": "python",
   "name": "python3"
  },
  "language_info": {
   "codemirror_mode": {
    "name": "ipython",
    "version": 3
   },
   "file_extension": ".py",
   "mimetype": "text/x-python",
   "name": "python",
   "nbconvert_exporter": "python",
   "pygments_lexer": "ipython3",
   "version": "3.6.6+"
  }
 },
 "nbformat": 4,
 "nbformat_minor": 2
}
